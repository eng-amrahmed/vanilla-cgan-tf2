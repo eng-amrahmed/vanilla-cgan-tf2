{
 "cells": [
  {
   "cell_type": "markdown",
   "metadata": {},
   "source": [
    "#### Please first take a look to my repository https://github.com/eng-amrahmed/vanilla-gan-tf2\n",
    "#### You will find there a fully documented code to help you understand How GAN works\n",
    "#### This will help you to understand the below implementation \n",
    "\n"
   ]
  },
  {
   "cell_type": "code",
   "execution_count": 1,
   "metadata": {},
   "outputs": [],
   "source": [
    "from __future__ import absolute_import, division, print_function, unicode_literals\n",
    "\n",
    "import numpy as np\n",
    "\n",
    "import matplotlib.pyplot as plt\n",
    "import matplotlib.gridspec as gridspec\n",
    "\n",
    "import os\n",
    "\n",
    "import tensorflow as tf\n",
    "from tensorflow.keras import layers\n",
    "from tensorflow.keras import datasets\n",
    "from tensorflow.keras import regularizers\n",
    "from tensorflow.keras.utils import to_categorical\n",
    "\n",
    "tf.keras.backend.clear_session()  # For easy reset of notebook state."
   ]
  },
  {
   "cell_type": "code",
   "execution_count": 2,
   "metadata": {},
   "outputs": [],
   "source": [
    "if not os.path.exists('cgan_samples/'):\n",
    "    os.makedirs('cgan_samples/')"
   ]
  },
  {
   "cell_type": "code",
   "execution_count": 3,
   "metadata": {},
   "outputs": [],
   "source": [
    "seed          = 2019\n",
    "batch_size    = 32\n",
    "iterations    = 100000\n",
    "lr            = 1e-4\n",
    "Z_dim         = 100"
   ]
  },
  {
   "cell_type": "code",
   "execution_count": 4,
   "metadata": {},
   "outputs": [],
   "source": [
    "np.random.seed(seed)\n",
    "tf.random.set_seed(seed)"
   ]
  },
  {
   "cell_type": "code",
   "execution_count": 5,
   "metadata": {},
   "outputs": [],
   "source": [
    "(x_train, y_train), (_, _) = datasets.mnist.load_data()\n",
    "x_train = x_train.reshape(60000, 784).astype('float32') / 255\n",
    "y_train_onehot = to_categorical(y_train)"
   ]
  },
  {
   "cell_type": "code",
   "execution_count": 6,
   "metadata": {},
   "outputs": [],
   "source": [
    "y_dim = y_train_onehot.shape[1]"
   ]
  },
  {
   "cell_type": "code",
   "execution_count": 7,
   "metadata": {},
   "outputs": [],
   "source": [
    "class Discriminator(tf.keras.layers.Layer):\n",
    "    def __init__(self):\n",
    "        super(Discriminator, self).__init__()\n",
    "        self.linear_1 = layers.Dense(128)\n",
    "        self.linear_2 = layers.Dense(1)\n",
    "            \n",
    "    def call(self, x, y):\n",
    "        x = tf.concat([x, y], axis=1) \n",
    "        x = self.linear_1(x)\n",
    "        x = tf.nn.relu(x)\n",
    "        #x = tf.nn.dropout(x, 0.2)\n",
    "        x = self.linear_2(x)\n",
    "        x = tf.nn.sigmoid(x)        \n",
    "        return x"
   ]
  },
  {
   "cell_type": "code",
   "execution_count": 8,
   "metadata": {},
   "outputs": [],
   "source": [
    "class Generator(tf.keras.layers.Layer):\n",
    "    def __init__(self):\n",
    "        super(Generator, self).__init__()\n",
    "        self.linear_1 = layers.Dense(128)\n",
    "        self.linear_2 = layers.Dense(784)\n",
    "            \n",
    "    def call(self, z, y):\n",
    "        x = tf.concat([z, y], axis=1) \n",
    "        x = self.linear_1(x)\n",
    "        x = tf.nn.relu(x)\n",
    "        #x = tf.nn.dropout(x, 0.2)\n",
    "        x = self.linear_2(x)\n",
    "        x = tf.nn.sigmoid(x)        \n",
    "        return x"
   ]
  },
  {
   "cell_type": "code",
   "execution_count": 9,
   "metadata": {},
   "outputs": [],
   "source": [
    "def sample_Z(m, n):\n",
    "    return np.random.uniform(-1., 1., size=[m, n])"
   ]
  },
  {
   "cell_type": "code",
   "execution_count": 10,
   "metadata": {},
   "outputs": [],
   "source": [
    "def plot(samples):\n",
    "    fig = plt.figure(figsize=(4, 4))\n",
    "    gs = gridspec.GridSpec(4, 4)\n",
    "    gs.update(wspace=0.05, hspace=0.05)\n",
    "\n",
    "    for i, sample in enumerate(samples):\n",
    "        ax = plt.subplot(gs[i])\n",
    "        plt.axis('off')\n",
    "        ax.set_xticklabels([])\n",
    "        ax.set_yticklabels([])\n",
    "        ax.set_aspect('equal')\n",
    "        plt.imshow(sample.reshape(28, 28), cmap='Greys_r')\n",
    "\n",
    "    return fig"
   ]
  },
  {
   "cell_type": "code",
   "execution_count": 11,
   "metadata": {},
   "outputs": [],
   "source": [
    "generator     = Generator()\n",
    "discriminator = Discriminator()\n",
    "optimizer = tf.optimizers.Adam(lr)"
   ]
  },
  {
   "cell_type": "code",
   "execution_count": 12,
   "metadata": {},
   "outputs": [
    {
     "name": "stdout",
     "output_type": "stream",
     "text": [
      "Iter: 0     D_loss: 1.3045     G_loss: 1.0804\n",
      "Iter: 1000     D_loss: 0.1798     G_loss: 2.9678\n",
      "Iter: 2000     D_loss: 0.2380     G_loss: 2.2174\n",
      "Iter: 3000     D_loss: 0.1538     G_loss: 2.3012\n",
      "Iter: 4000     D_loss: 0.0576     G_loss: 3.0792\n",
      "Iter: 5000     D_loss: 0.1592     G_loss: 3.9592\n",
      "Iter: 6000     D_loss: 0.0901     G_loss: 3.7376\n",
      "Iter: 7000     D_loss: 0.1946     G_loss: 3.5143\n",
      "Iter: 8000     D_loss: 0.0898     G_loss: 3.5180\n",
      "Iter: 9000     D_loss: 0.1247     G_loss: 3.5775\n",
      "Iter: 10000     D_loss: 0.3520     G_loss: 2.5997\n",
      "Iter: 11000     D_loss: 0.1127     G_loss: 3.5136\n",
      "Iter: 12000     D_loss: 0.1320     G_loss: 2.6255\n",
      "Iter: 13000     D_loss: 0.1759     G_loss: 3.3541\n",
      "Iter: 14000     D_loss: 0.1706     G_loss: 3.3116\n",
      "Iter: 15000     D_loss: 0.4074     G_loss: 3.4610\n",
      "Iter: 16000     D_loss: 0.0741     G_loss: 3.5767\n",
      "Iter: 17000     D_loss: 0.1077     G_loss: 4.0688\n",
      "Iter: 18000     D_loss: 0.0694     G_loss: 3.7295\n",
      "Iter: 19000     D_loss: 0.1138     G_loss: 4.1517\n",
      "Iter: 20000     D_loss: 0.1742     G_loss: 4.6712\n",
      "Iter: 21000     D_loss: 0.0956     G_loss: 4.3521\n",
      "Iter: 22000     D_loss: 0.0791     G_loss: 4.2680\n",
      "Iter: 23000     D_loss: 0.1282     G_loss: 4.5796\n",
      "Iter: 24000     D_loss: 0.0858     G_loss: 4.1467\n",
      "Iter: 25000     D_loss: 0.3081     G_loss: 2.8603\n",
      "Iter: 26000     D_loss: 0.0580     G_loss: 4.1748\n",
      "Iter: 27000     D_loss: 0.1603     G_loss: 3.3638\n",
      "Iter: 28000     D_loss: 0.1483     G_loss: 3.4768\n",
      "Iter: 29000     D_loss: 0.2465     G_loss: 3.8294\n",
      "Iter: 30000     D_loss: 0.2552     G_loss: 4.2198\n",
      "Iter: 31000     D_loss: 0.1254     G_loss: 3.0343\n",
      "Iter: 32000     D_loss: 0.3938     G_loss: 3.7359\n",
      "Iter: 33000     D_loss: 0.1501     G_loss: 3.9918\n",
      "Iter: 34000     D_loss: 0.3496     G_loss: 4.1988\n",
      "Iter: 35000     D_loss: 0.1606     G_loss: 4.2828\n",
      "Iter: 36000     D_loss: 0.0805     G_loss: 3.7599\n",
      "Iter: 37000     D_loss: 0.1138     G_loss: 4.2696\n",
      "Iter: 38000     D_loss: 0.0901     G_loss: 4.6440\n",
      "Iter: 39000     D_loss: 0.0896     G_loss: 3.8089\n",
      "Iter: 40000     D_loss: 0.1004     G_loss: 3.6600\n",
      "Iter: 41000     D_loss: 0.2793     G_loss: 4.8501\n",
      "Iter: 42000     D_loss: 0.1675     G_loss: 4.4681\n",
      "Iter: 43000     D_loss: 0.1907     G_loss: 3.8585\n",
      "Iter: 44000     D_loss: 0.2458     G_loss: 4.4707\n",
      "Iter: 45000     D_loss: 0.3261     G_loss: 3.7160\n",
      "Iter: 46000     D_loss: 0.1249     G_loss: 3.9101\n",
      "Iter: 47000     D_loss: 0.1381     G_loss: 3.6043\n",
      "Iter: 48000     D_loss: 0.0999     G_loss: 4.4553\n",
      "Iter: 49000     D_loss: 0.1305     G_loss: 4.0777\n",
      "Iter: 50000     D_loss: 0.3271     G_loss: 4.3674\n",
      "Iter: 51000     D_loss: 0.2045     G_loss: 3.6707\n",
      "Iter: 52000     D_loss: 0.1389     G_loss: 4.6652\n",
      "Iter: 53000     D_loss: 0.1584     G_loss: 4.4348\n",
      "Iter: 54000     D_loss: 0.2049     G_loss: 4.1110\n",
      "Iter: 55000     D_loss: 0.2095     G_loss: 3.9482\n",
      "Iter: 56000     D_loss: 0.1544     G_loss: 3.0924\n",
      "Iter: 57000     D_loss: 0.2465     G_loss: 3.5002\n",
      "Iter: 58000     D_loss: 0.4876     G_loss: 2.8001\n",
      "Iter: 59000     D_loss: 0.2924     G_loss: 5.1655\n",
      "Iter: 60000     D_loss: 0.2268     G_loss: 4.8104\n",
      "Iter: 61000     D_loss: 0.4643     G_loss: 3.1337\n",
      "Iter: 62000     D_loss: 0.3243     G_loss: 3.3757\n",
      "Iter: 63000     D_loss: 0.2122     G_loss: 3.7506\n",
      "Iter: 64000     D_loss: 0.3657     G_loss: 3.2388\n",
      "Iter: 65000     D_loss: 0.5640     G_loss: 2.7554\n",
      "Iter: 66000     D_loss: 0.1044     G_loss: 3.8142\n",
      "Iter: 67000     D_loss: 0.2333     G_loss: 3.0794\n",
      "Iter: 68000     D_loss: 0.2636     G_loss: 3.7903\n",
      "Iter: 69000     D_loss: 0.2617     G_loss: 3.4911\n",
      "Iter: 70000     D_loss: 0.5647     G_loss: 2.9438\n",
      "Iter: 71000     D_loss: 0.4078     G_loss: 3.4460\n",
      "Iter: 72000     D_loss: 0.2266     G_loss: 3.2396\n",
      "Iter: 73000     D_loss: 0.2771     G_loss: 3.6617\n",
      "Iter: 74000     D_loss: 0.2192     G_loss: 3.0255\n",
      "Iter: 75000     D_loss: 0.4206     G_loss: 3.4454\n",
      "Iter: 76000     D_loss: 0.3524     G_loss: 3.4607\n",
      "Iter: 77000     D_loss: 0.3561     G_loss: 3.2968\n",
      "Iter: 78000     D_loss: 0.4200     G_loss: 2.9879\n",
      "Iter: 79000     D_loss: 0.3583     G_loss: 3.1907\n",
      "Iter: 80000     D_loss: 0.4946     G_loss: 3.3589\n",
      "Iter: 81000     D_loss: 0.6324     G_loss: 2.7378\n",
      "Iter: 82000     D_loss: 0.3795     G_loss: 2.8549\n",
      "Iter: 83000     D_loss: 0.2469     G_loss: 3.2581\n",
      "Iter: 84000     D_loss: 0.5977     G_loss: 3.2296\n",
      "Iter: 85000     D_loss: 0.3215     G_loss: 2.7573\n",
      "Iter: 86000     D_loss: 0.3333     G_loss: 3.7186\n",
      "Iter: 87000     D_loss: 0.2383     G_loss: 3.3993\n",
      "Iter: 88000     D_loss: 0.4893     G_loss: 3.2080\n",
      "Iter: 89000     D_loss: 0.5164     G_loss: 3.7706\n",
      "Iter: 90000     D_loss: 0.3491     G_loss: 3.4295\n",
      "Iter: 91000     D_loss: 0.5036     G_loss: 3.1908\n",
      "Iter: 92000     D_loss: 0.3546     G_loss: 3.4289\n",
      "Iter: 93000     D_loss: 0.3859     G_loss: 2.5541\n",
      "Iter: 94000     D_loss: 0.5166     G_loss: 3.3532\n",
      "Iter: 95000     D_loss: 0.4463     G_loss: 2.5528\n",
      "Iter: 96000     D_loss: 0.2803     G_loss: 3.2123\n",
      "Iter: 97000     D_loss: 0.3140     G_loss: 2.7345\n",
      "Iter: 98000     D_loss: 0.3293     G_loss: 3.1598\n",
      "Iter: 99000     D_loss: 0.5522     G_loss: 1.9534\n"
     ]
    }
   ],
   "source": [
    "D_losses = []\n",
    "G_losses = []\n",
    "\n",
    "for it in range(iterations):    \n",
    "   \n",
    "    if it % 1000 == 0:\n",
    "        \n",
    "        Z_sample = sample_Z(16, Z_dim)\n",
    "        y_sample = np.zeros(shape=[16, y_dim])\n",
    "        y_sample[:, 7] = 1\n",
    "\n",
    "        samples = generator(Z_sample, y_sample)\n",
    "        \n",
    "        fig = plot(samples.numpy())\n",
    "        plt.savefig('cgan_samples/{}.png'.format(str(it).zfill(3)), bbox_inches='tight')\n",
    "        plt.close(fig)\n",
    "   \n",
    "   \n",
    "    idx = np.random.randint(0, x_train.shape[0], batch_size)\n",
    "    X_mb = x_train[idx]\n",
    "    y_mb = y_train_onehot[idx]\n",
    "   \n",
    "           \n",
    "    with tf.GradientTape() as tape:  \n",
    "        Z           = sample_Z(batch_size, Z_dim)\n",
    "        Fake_sample = generator(Z, y_mb)\n",
    "        D_real_prob = discriminator(X_mb, y_mb)\n",
    "        D_fake_prob = discriminator(Fake_sample, y_mb)\n",
    "        D_loss      = -tf.reduce_mean(tf.math.log(D_real_prob) + tf.math.log(1. - D_fake_prob))\n",
    "\n",
    "        gradients = tape.gradient(D_loss, discriminator.trainable_weights)\n",
    "    optimizer.apply_gradients(zip(gradients, discriminator.trainable_weights))\n",
    "\n",
    "      \n",
    "    with tf.GradientTape() as tape:        \n",
    "        Z           = sample_Z(batch_size, Z_dim)\n",
    "        Fake_sample = generator(Z, y_mb)\n",
    "        D_fake_prob = discriminator(Fake_sample, y_mb)\n",
    "        \n",
    "        G_loss   = -tf.reduce_mean(tf.math.log(D_fake_prob))\n",
    "                \n",
    "        gradients = tape.gradient(G_loss, generator.trainable_weights)\n",
    "    optimizer.apply_gradients(zip(gradients, generator.trainable_weights))\n",
    "    \n",
    "    \n",
    "    if it % 1000 == 0:\n",
    "        print('Iter: {}     D_loss: {:.4f}     G_loss: {:.4f}'.format(it, D_loss, G_loss))\n",
    "\n",
    "    \n",
    "    D_losses.append(D_loss)\n",
    "    G_losses.append(G_loss)\n",
    "        "
   ]
  },
  {
   "cell_type": "code",
   "execution_count": 13,
   "metadata": {},
   "outputs": [
    {
     "data": {
      "image/png": "[encoded data removed]",
      "text/plain": [
       "<Figure size 432x288 with 1 Axes>"
      ]
     },
     "metadata": {
      "needs_background": "light"
     },
     "output_type": "display_data"
    }
   ],
   "source": [
    "plt.plot(D_losses)\n",
    "plt.plot(G_losses)\n",
    "plt.title('GAN Loss Evaluation')\n",
    "plt.ylabel('')\n",
    "plt.xlabel('iteration')\n",
    "plt.legend(['Discriminator', 'Generator'],loc='upper right')\n",
    "plt.show()"
   ]
  },
  {
   "cell_type": "code",
   "execution_count": 14,
   "metadata": {},
   "outputs": [
    {
     "data": {
      "image/png": "[encoded data removed]",
      "text/plain": [
       "<Figure size 720x2304 with 10 Axes>"
      ]
     },
     "metadata": {
      "needs_background": "light"
     },
     "output_type": "display_data"
    }
   ],
   "source": [
    "# let's use the generator to sample a particular label\n",
    "label = 7\n",
    "\n",
    "n = 10  # number of samples\n",
    "\n",
    "Z_sample = sample_Z(n, Z_dim)\n",
    "y_sample = np.zeros(shape=[10, y_dim])\n",
    "y_sample[:, label] = 1\n",
    "samples = generator(Z_sample, y_sample)\n",
    "\n",
    "plt.figure(figsize=(10, 32))\n",
    "for i in range(1, n+1):\n",
    "    \n",
    "    ax = plt.subplot(1, 10, i)\n",
    "    \n",
    "    plt.imshow(np.array(samples)[i-1].reshape(28, 28))\n",
    "    plt.gray()\n",
    "    ax.get_xaxis().set_visible(False)\n",
    "    ax.get_yaxis().set_visible(False)\n",
    "    \n",
    "plt.show()    "
   ]
  },
  {
   "cell_type": "code",
   "execution_count": null,
   "metadata": {},
   "outputs": [],
   "source": []
  }
 ],
 "metadata": {
  "kernelspec": {
   "display_name": "Python 3",
   "language": "python",
   "name": "python3"
  },
  "language_info": {
   "codemirror_mode": {
    "name": "ipython",
    "version": 3
   },
   "file_extension": ".py",
   "mimetype": "text/x-python",
   "name": "python",
   "nbconvert_exporter": "python",
   "pygments_lexer": "ipython3",
   "version": "3.5.2"
  }
 },
 "nbformat": 4,
 "nbformat_minor": 2
}
